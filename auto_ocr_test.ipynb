{
 "cells": [
  {
   "cell_type": "code",
   "execution_count": null,
   "metadata": {},
   "outputs": [],
   "source": [
    "### in this file I tried to automate the OCR"
   ]
  },
  {
   "cell_type": "code",
   "execution_count": 1,
   "metadata": {},
   "outputs": [],
   "source": [
    "from datetime import datetime\n",
    "import pandas as pd\n",
    "import cv2\n",
    "from PIL import Image\n",
    "import pytesseract\n",
    "from pytesseract import Output\n",
    "pytesseract.pytesseract.tesseract_cmd = r\"C:\\Users\\carol\\Desktop\\final_project\\tesseract-ocr\\tesseract.exe\""
   ]
  },
  {
   "cell_type": "code",
   "execution_count": 43,
   "metadata": {},
   "outputs": [
    {
     "name": "stdout",
     "output_type": "stream",
     "text": [
      "Legumes\n",
      "| da Horta |\n",
      "\\ MISTURA |\n",
      "PARA SALTEAR\n",
      "\n",
      "\n"
     ]
    }
   ],
   "source": [
    "## TEST 1\n",
    "def extract_text_from_image(image_path):\n",
    "    try:\n",
    "        # Open the image using Pillow\n",
    "        image = Image.open(image_path)\n",
    "        \n",
    "        # Perform OCR using Tesseract\n",
    "        text = pytesseract.image_to_string(image)\n",
    "        \n",
    "        return text\n",
    "    except Exception as e:\n",
    "        return str(e)\n",
    "\n",
    "# Example usage:\n",
    "image_path = \"veggies.png\"\n",
    "extracted_text = extract_text_from_image(image_path)\n",
    "\n",
    "\n",
    "print(extracted_text)\n",
    "\n",
    "### does not work for: apple, eggs, flour, ham, meat, milk, mushrooms, oliveiol images"
   ]
  },
  {
   "cell_type": "code",
   "execution_count": 23,
   "metadata": {},
   "outputs": [
    {
     "name": "stdout",
     "output_type": "stream",
     "text": [
      "OnTinEnte\n",
      "\n",
      "Feijao Preto\n",
      "\n",
      "4170 TEOR EM PROTEINA\n",
      "FONTE DE FIBRA\n",
      "BAIXO TEOR DE SAL\n",
      "\n",
      "\n"
     ]
    }
   ],
   "source": [
    "## TEST 2\n",
    "import cv2\n",
    "import numpy as np\n",
    "import pytesseract\n",
    "from PIL import Image\n",
    "\n",
    "def preprocess_image(image_path):\n",
    "    try:\n",
    "        # Open the image using OpenCV\n",
    "        image = cv2.imread(image_path)\n",
    "\n",
    "        # Convert to grayscale\n",
    "        gray = cv2.cvtColor(image, cv2.COLOR_BGR2GRAY)\n",
    "\n",
    "        # Apply thresholding to make the image binary\n",
    "        _, binary_image = cv2.threshold(gray, 128, 255, cv2.THRESH_BINARY | cv2.THRESH_OTSU)\n",
    "\n",
    "        # Perform deskewing (optional)\n",
    "        # You can use the cv2.getRotationMatrix2D and cv2.warpAffine functions for deskewing\n",
    "\n",
    "        # Save the pre-processed image\n",
    "        cv2.imwrite(\"preprocessed_image.png\", binary_image)\n",
    "\n",
    "        return \"preprocessed_image.png\"\n",
    "    except Exception as e:\n",
    "        return str(e)\n",
    "\n",
    "# Example usage:\n",
    "image_path = \"beans.png\"\n",
    "preprocessed_image_path = preprocess_image(image_path)\n",
    "\n",
    "# Perform OCR on the pre-processed image\n",
    "extracted_text = pytesseract.image_to_string(Image.open(preprocessed_image_path))\n",
    "\n",
    "print(extracted_text)\n",
    "\n",
    "### does not work for: eggs, flour, iogurt, meat, milk, oliveoil, pasta, potatoes, rice, salmon, veggies images"
   ]
  },
  {
   "cell_type": "code",
   "execution_count": 64,
   "metadata": {},
   "outputs": [
    {
     "name": "stdout",
     "output_type": "stream",
     "text": [
      "\n"
     ]
    }
   ],
   "source": [
    "## TEST 3\n",
    "import cv2\n",
    "import pytesseract\n",
    "from PIL import Image\n",
    "\n",
    "def preprocess_and_extract_text(image_path):\n",
    "    try:\n",
    "        # Open the image using Pillow\n",
    "        image = Image.open(image_path)\n",
    "\n",
    "        # Convert the image to OpenCV format\n",
    "        open_cv_image = cv2.cvtColor(np.array(image), cv2.COLOR_RGB2BGR)\n",
    "\n",
    "        # Pre-process the image\n",
    "        # You can add more pre-processing steps here\n",
    "        gray = cv2.cvtColor(open_cv_image, cv2.COLOR_BGR2GRAY)\n",
    "        _, binary_image = cv2.threshold(gray, 128, 255, cv2.THRESH_BINARY | cv2.THRESH_OTSU)\n",
    "\n",
    "        # Perform OCR using Tesseract on the pre-processed image\n",
    "        extracted_text = pytesseract.image_to_string(binary_image)\n",
    "\n",
    "        return extracted_text\n",
    "    except Exception as e:\n",
    "        return str(e)\n",
    "\n",
    "# Example usage:\n",
    "image_path = \"veggies.png\"\n",
    "extracted_text = preprocess_and_extract_text(image_path)\n",
    "\n",
    "print(extracted_text)\n",
    "### does not work for: eggs, flour, iogurt, meat, milk, oliveoil, pasta, potatoes, rice, salmon, veggies images"
   ]
  }
 ],
 "metadata": {
  "kernelspec": {
   "display_name": "base",
   "language": "python",
   "name": "python3"
  },
  "language_info": {
   "codemirror_mode": {
    "name": "ipython",
    "version": 3
   },
   "file_extension": ".py",
   "mimetype": "text/x-python",
   "name": "python",
   "nbconvert_exporter": "python",
   "pygments_lexer": "ipython3",
   "version": "3.10.9"
  },
  "orig_nbformat": 4
 },
 "nbformat": 4,
 "nbformat_minor": 2
}
