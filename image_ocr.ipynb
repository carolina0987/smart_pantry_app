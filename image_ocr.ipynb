{
 "cells": [
  {
   "cell_type": "code",
   "execution_count": 3,
   "metadata": {},
   "outputs": [],
   "source": [
    "#Page segmentation modes:\n",
    "\n",
    "#  0    Orientation and script detection (OSD) only.\n",
    "#  1    Automatic page segmentation with OSD.\n",
    "#  2    Automatic page segmentation, but no OSD, or OCR.\n",
    "#  3    Fully automatic page segmentation, but no OSD. (Default)\n",
    "#  4    Assume a single column of text of variable sizes.\n",
    "#  5    Assume a single uniform block of vertically aligned text.\n",
    "#  6    Assume a single uniform block of text.\n",
    "#  7    Treat the image as a single text line.\n",
    "#  8    Treat the image as a single word.\n",
    "#  9    Treat the image as a single word in a circle.\n",
    "# 10    Treat the image as a single character.\n",
    "# 11    Sparse text. Find as much text as possible in no particular order.\n",
    "# 12    Sparse text with OSD.\n",
    "# 13    Raw line. Treat the image as a single text line, bypassing hacks that are Tesseract-specific.\n",
    "\n",
    "#OCR Engine modes:\n",
    "\n",
    "# 0 Legacy engine only.\n",
    "# 1 Neural nets LSTM engine only.\n",
    "# 2 Legacy + LSTM engines.\n",
    "# 3 Default, based on what is available.\n",
    "\n",
    "#example:\n",
    "#target = pytesseract.image_to_string(image, lang='eng', boxes=False, \\\n",
    "       # config='--psm 10 --oem 3 -c tessedit_char_whitelist=0123456789')"
   ]
  },
  {
   "cell_type": "code",
   "execution_count": 17,
   "metadata": {},
   "outputs": [],
   "source": [
    "from datetime import datetime\n",
    "import pandas as pd\n",
    "import cv2\n",
    "from PIL import Image\n",
    "import pytesseract\n",
    "from pytesseract import Output\n",
    "pytesseract.pytesseract.tesseract_cmd = r\"C:\\Users\\carol\\Desktop\\final_project\\tesseract-ocr\\tesseract.exe\""
   ]
  },
  {
   "cell_type": "code",
   "execution_count": 5,
   "metadata": {},
   "outputs": [],
   "source": [
    "##To locate each word (example):\n",
    "#img = cv2.imread(\"beans.png\")\n",
    "#height, width, _ = img.shape\n",
    "#data = pytesseract.image_to_data(img, config = myconfig, output_type = pytesseract.Output.DICT)\n",
    "#print(data['text'][12:14])"
   ]
  },
  {
   "cell_type": "code",
   "execution_count": 6,
   "metadata": {},
   "outputs": [],
   "source": [
    "### ---> this is to see each character of each word (example)\n",
    "#import cv2\n",
    "#import pytesseract\n",
    "\n",
    "#img = cv2.imread(\"apple.png\")\n",
    "\n",
    "#height, width, _ = img.shape\n",
    "\n",
    "#myconfig = \"--oem 3 --psm 11\" \n",
    "\n",
    "#boxes = pytesseract.image_to_boxes(img, config=myconfig)\n",
    "\n",
    "#for box in boxes.splitlines():\n",
    "#    box = box.split(\" \")\n",
    "#    x, y, w, h = int(box[1]), int(box[2]), int(box[3]), int(box[4])\n",
    "#    img = cv2.rectangle(img, (x, height - y), (w, height - h), (0, 255, 0), 2)\n",
    "\n",
    "#cv2.imshow(\"img\", img)\n",
    "#cv2.waitKey(0)\n",
    "#cv2.destroyAllWindows()"
   ]
  },
  {
   "cell_type": "code",
   "execution_count": 18,
   "metadata": {},
   "outputs": [
    {
     "name": "stdout",
     "output_type": "stream",
     "text": [
      "feijão preto\n"
     ]
    }
   ],
   "source": [
    "#beans\n",
    "def extract_beans_product(image_path):\n",
    "    myconfig = r\"--psm 11 --oem 3\"\n",
    "\n",
    "    # Extract text from the image\n",
    "    beans_image = Image.open(\"beans.png\")\n",
    "    beans_text = pytesseract.image_to_string(beans_image, lang=\"por\", config=myconfig)\n",
    "\n",
    "    # # Extract the words you want\n",
    "    beans_data = beans_text.split()\n",
    "    words_to_extract = beans_data[8:10]\n",
    "    beans_product = ' '.join(words_to_extract).lower()\n",
    "    \n",
    "    return beans_product\n",
    "\n",
    "# Example usage:\n",
    "beans_product = extract_beans_product(\"beans.png\")\n",
    "print(beans_product)"
   ]
  },
  {
   "cell_type": "code",
   "execution_count": 23,
   "metadata": {},
   "outputs": [
    {
     "name": "stdout",
     "output_type": "stream",
     "text": [
      "pão de forma\n"
     ]
    }
   ],
   "source": [
    "#bread\n",
    "def extract_bread_product(image_path):\n",
    "    myconfig = r\"--psm 11 --oem 3\"\n",
    "\n",
    "    # Extract text from the image\n",
    "    bread_image = Image.open(\"bread.png\")\n",
    "    bread_text = pytesseract.image_to_string(bread_image, lang=\"por\", config=myconfig)\n",
    "\n",
    "    # Extract the words you want\n",
    "    bread_data = bread_text.split()\n",
    "    words_to_extract = bread_data[9:12]\n",
    "    bread_product = ' '.join(words_to_extract).lower()\n",
    "    \n",
    "    return bread_product\n",
    "\n",
    "# Example usage:\n",
    "bread_product = extract_bread_product(\"bread.png\")\n",
    "print(bread_product)"
   ]
  },
  {
   "cell_type": "code",
   "execution_count": 6,
   "metadata": {},
   "outputs": [
    {
     "name": "stdout",
     "output_type": "stream",
     "text": [
      "ovos de galinhas\n"
     ]
    }
   ],
   "source": [
    "#eggs\n",
    "def extract_egg_product(image_path):\n",
    "    myconfig = r\"--psm 11 --oem 3\"\n",
    "    \n",
    "    # Extract text from the image\n",
    "    eggs_image = Image.open(\"eggs.png\")\n",
    "    eggs_text = pytesseract.image_to_string(eggs_image, lang=\"por\", config=myconfig)\n",
    "    \n",
    "    # Extract the words you want\n",
    "    eggs_data = eggs_text.split()\n",
    "    words_to_extract = eggs_data[19:22]\n",
    "    egg_product = ' '.join(words_to_extract).replace(\"-\", \" \").lower()\n",
    "    \n",
    "    return egg_product\n",
    "\n",
    "# Example usage:\n",
    "egg_product = extract_egg_product(\"eggs.png\")\n",
    "print(egg_product)"
   ]
  },
  {
   "cell_type": "code",
   "execution_count": 5,
   "metadata": {},
   "outputs": [
    {
     "name": "stdout",
     "output_type": "stream",
     "text": [
      "farinha\n"
     ]
    }
   ],
   "source": [
    "#flour\n",
    "def extract_flour_product(image_path):\n",
    "    myconfig = r\"--psm 6 --oem 3\"\n",
    "    \n",
    "    # Extract text from the image\n",
    "    flour_image = Image.open(\"flour.png\")\n",
    "    flour_text = pytesseract.image_to_string(flour_image, lang=\"por\", config=myconfig)\n",
    "    \n",
    "    # Extract the product name\n",
    "    flour_data = flour_text.split()\n",
    "    flour_product = flour_data[3].lower()\n",
    "    \n",
    "    return flour_product\n",
    "\n",
    "# Example usage:\n",
    "flour_product = extract_flour_product(\"flour.png\")\n",
    "print(flour_product)"
   ]
  },
  {
   "cell_type": "code",
   "execution_count": 11,
   "metadata": {},
   "outputs": [
    {
     "name": "stdout",
     "output_type": "stream",
     "text": [
      "iogurte natural\n"
     ]
    }
   ],
   "source": [
    "#iogurt\n",
    "def extract_yogurt_product(image_path):\n",
    "    myconfig = r\"--psm 11 --oem 3\"\n",
    "    \n",
    "    # Extract text from the image\n",
    "    yogurt_image = Image.open(\"iogurt.png\")\n",
    "    yogurt_text = pytesseract.image_to_string(yogurt_image, lang=\"por\", config=myconfig)\n",
    "    \n",
    "    # Extract the words for the product name\n",
    "    yogurt_data = yogurt_text.split()\n",
    "    yogurt_words = yogurt_data[2:4]\n",
    "    \n",
    "    # Join the words and convert to lowercase\n",
    "    yogurt_product = ' '.join(yogurt_words).replace(\"-\", \" \").lower()\n",
    "    \n",
    "    return yogurt_product\n",
    "\n",
    "# Example usage:\n",
    "yogurt_product = extract_yogurt_product(\"iogurt.png\")\n",
    "print(yogurt_product)"
   ]
  },
  {
   "cell_type": "code",
   "execution_count": 12,
   "metadata": {},
   "outputs": [
    {
     "name": "stdout",
     "output_type": "stream",
     "text": [
      "frango\n"
     ]
    }
   ],
   "source": [
    "#meat\n",
    "def extract_meat_product(image_path):\n",
    "    myconfig = r\"--psm 6 --oem 3\"\n",
    "    \n",
    "    # Extract text from the image\n",
    "    meat_image = Image.open(\"meat.png\")\n",
    "    meat_text = pytesseract.image_to_string(meat_image, lang=\"por\", config=myconfig)\n",
    "    \n",
    "    # Extract the meat product name\n",
    "    meat_data = meat_text.split()\n",
    "    meat_product = meat_data[7].lower()\n",
    "    \n",
    "    return meat_product\n",
    "\n",
    "# Example usage:\n",
    "meat_product = extract_meat_product(\"meat.png\")\n",
    "print(meat_product)"
   ]
  },
  {
   "cell_type": "code",
   "execution_count": 13,
   "metadata": {},
   "outputs": [
    {
     "name": "stdout",
     "output_type": "stream",
     "text": [
      "azeite\n"
     ]
    }
   ],
   "source": [
    "#oliveoil\n",
    "def extract_oliveoil_product(image_path):\n",
    "    myconfig = r\"--psm 11 --oem 3\"\n",
    "    \n",
    "    # Extract text from the image\n",
    "    oliveoil_image = Image.open(\"oliveoil.png\")\n",
    "    oliveoil_text = pytesseract.image_to_string(oliveoil_image, lang=\"por\", config=myconfig)\n",
    "    \n",
    "    # Extract the olive oil product name\n",
    "    oliveoil_data = oliveoil_text.split()\n",
    "    oliveoil_product = oliveoil_data[7].lower()\n",
    "    \n",
    "    return oliveoil_product\n",
    "\n",
    "# Example usage:\n",
    "oliveoil_product = extract_oliveoil_product(\"oliveoil.png\")\n",
    "print(oliveoil_product)"
   ]
  },
  {
   "cell_type": "code",
   "execution_count": 14,
   "metadata": {},
   "outputs": [
    {
     "name": "stdout",
     "output_type": "stream",
     "text": [
      "esparguete\n"
     ]
    }
   ],
   "source": [
    "#pasta\n",
    "def extract_pasta_product(image_path):\n",
    "    myconfig = r\"--psm 6 --oem 3\"\n",
    "    \n",
    "    # Extract text from the image\n",
    "    pasta_image = Image.open(\"pasta.png\")\n",
    "    pasta_text = pytesseract.image_to_string(pasta_image, lang=\"por\", config=myconfig)\n",
    "    \n",
    "    # Extract the pasta product name\n",
    "    pasta_data = pasta_text.split()\n",
    "    pasta_product = pasta_data[4].lower()\n",
    "    \n",
    "    return pasta_product\n",
    "\n",
    "# Example usage:\n",
    "pasta_product = extract_pasta_product(\"pasta.png\")\n",
    "print(pasta_product)"
   ]
  },
  {
   "cell_type": "code",
   "execution_count": 15,
   "metadata": {},
   "outputs": [
    {
     "name": "stdout",
     "output_type": "stream",
     "text": [
      "arroz\n"
     ]
    }
   ],
   "source": [
    "#rice\n",
    "def extract_rice_product(image_path):\n",
    "    myconfig = r\"--psm 6 --oem 3\"\n",
    "    \n",
    "    # Extract text from the image\n",
    "    rice_image = Image.open(\"rice.png\")\n",
    "    rice_text = pytesseract.image_to_string(rice_image, lang=\"por\", config=myconfig)\n",
    "    \n",
    "    # Extract the rice product name\n",
    "    rice_data = rice_text.split()\n",
    "    rice_product = rice_data[1].lower()\n",
    "    \n",
    "    return rice_product\n",
    "\n",
    "# Example usage:\n",
    "rice_product = extract_rice_product(\"rice.png\")\n",
    "print(rice_product)"
   ]
  },
  {
   "cell_type": "code",
   "execution_count": 16,
   "metadata": {},
   "outputs": [
    {
     "ename": "FileNotFoundError",
     "evalue": "[Errno 2] No such file or directory: 'samon.png'",
     "output_type": "error",
     "traceback": [
      "\u001b[1;31m---------------------------------------------------------------------------\u001b[0m",
      "\u001b[1;31mFileNotFoundError\u001b[0m                         Traceback (most recent call last)",
      "Cell \u001b[1;32mIn[16], line 16\u001b[0m\n\u001b[0;32m     13\u001b[0m     \u001b[39mreturn\u001b[39;00m salmon_product\n\u001b[0;32m     15\u001b[0m \u001b[39m# Example usage:\u001b[39;00m\n\u001b[1;32m---> 16\u001b[0m salmon_product \u001b[39m=\u001b[39m extract_salmon_product(\u001b[39m\"\u001b[39;49m\u001b[39msamon.png\u001b[39;49m\u001b[39m\"\u001b[39;49m)\n\u001b[0;32m     17\u001b[0m \u001b[39mprint\u001b[39m(salmon_product)\n",
      "Cell \u001b[1;32mIn[16], line 6\u001b[0m, in \u001b[0;36mextract_salmon_product\u001b[1;34m(image_path)\u001b[0m\n\u001b[0;32m      3\u001b[0m myconfig \u001b[39m=\u001b[39m \u001b[39mr\u001b[39m\u001b[39m\"\u001b[39m\u001b[39m--psm 11 --oem 3\u001b[39m\u001b[39m\"\u001b[39m\n\u001b[0;32m      5\u001b[0m \u001b[39m# Extract text from the image\u001b[39;00m\n\u001b[1;32m----> 6\u001b[0m salmon_image \u001b[39m=\u001b[39m Image\u001b[39m.\u001b[39;49mopen(\u001b[39m\"\u001b[39;49m\u001b[39msamon.png\u001b[39;49m\u001b[39m\"\u001b[39;49m)\n\u001b[0;32m      7\u001b[0m salmon_text \u001b[39m=\u001b[39m pytesseract\u001b[39m.\u001b[39mimage_to_string(salmon_image, lang\u001b[39m=\u001b[39m\u001b[39m\"\u001b[39m\u001b[39mpor\u001b[39m\u001b[39m\"\u001b[39m, config\u001b[39m=\u001b[39mmyconfig)\n\u001b[0;32m      9\u001b[0m \u001b[39m# Extract the salmon product name\u001b[39;00m\n",
      "File \u001b[1;32mc:\\Users\\carol\\anaconda3\\lib\\site-packages\\PIL\\Image.py:3227\u001b[0m, in \u001b[0;36mopen\u001b[1;34m(fp, mode, formats)\u001b[0m\n\u001b[0;32m   3224\u001b[0m     filename \u001b[39m=\u001b[39m fp\n\u001b[0;32m   3226\u001b[0m \u001b[39mif\u001b[39;00m filename:\n\u001b[1;32m-> 3227\u001b[0m     fp \u001b[39m=\u001b[39m builtins\u001b[39m.\u001b[39;49mopen(filename, \u001b[39m\"\u001b[39;49m\u001b[39mrb\u001b[39;49m\u001b[39m\"\u001b[39;49m)\n\u001b[0;32m   3228\u001b[0m     exclusive_fp \u001b[39m=\u001b[39m \u001b[39mTrue\u001b[39;00m\n\u001b[0;32m   3230\u001b[0m \u001b[39mtry\u001b[39;00m:\n",
      "\u001b[1;31mFileNotFoundError\u001b[0m: [Errno 2] No such file or directory: 'samon.png'"
     ]
    }
   ],
   "source": [
    "#samon\n",
    "def extract_salmon_product(image_path):\n",
    "    myconfig = r\"--psm 11 --oem 3\"\n",
    "    \n",
    "    # Extract text from the image\n",
    "    salmon_image = Image.open(\"samon.png\")\n",
    "    salmon_text = pytesseract.image_to_string(salmon_image, lang=\"por\", config=myconfig)\n",
    "    \n",
    "    # Extract the salmon product name\n",
    "    salmon_data = salmon_text.split()\n",
    "    salmon_product = salmon_data[7].lower()\n",
    "    \n",
    "    return salmon_product\n",
    "\n",
    "# Example usage:\n",
    "salmon_product = extract_salmon_product(\"samon.png\")\n",
    "print(salmon_product)"
   ]
  },
  {
   "cell_type": "code",
   "execution_count": null,
   "metadata": {},
   "outputs": [
    {
     "name": "stdout",
     "output_type": "stream",
     "text": [
      "espinafres\n"
     ]
    }
   ],
   "source": [
    "#spinach\n",
    "def extract_spinach_product(image_path):\n",
    "    myconfig = r\"--psm 11 --oem 3\"\n",
    "    \n",
    "    # Extract text from the image\n",
    "    spinach_image = Image.open(\"spinach.png\")\n",
    "    spinach_text = pytesseract.image_to_string(spinach_image, lang=\"por\", config=myconfig)\n",
    "    \n",
    "    # Extract the spinach product name\n",
    "    spinach_data = spinach_text.split()\n",
    "    spinach_product = spinach_data[2].lower()\n",
    "    \n",
    "    return spinach_product\n",
    "\n",
    "# Example usage:\n",
    "spinach_product = extract_spinach_product(\"spinach.png\")\n",
    "print(spinach_product)"
   ]
  },
  {
   "cell_type": "code",
   "execution_count": null,
   "metadata": {},
   "outputs": [
    {
     "name": "stdout",
     "output_type": "stream",
     "text": [
      "legumes\n"
     ]
    }
   ],
   "source": [
    "#veggies\n",
    "def extract_veggies_product(image_path):\n",
    "    myconfig = r\"--psm 11 --oem 3\"\n",
    "    \n",
    "    # Extract text from the image\n",
    "    veggies_image = Image.open(\"veggies.png\")\n",
    "    veggies_text = pytesseract.image_to_string(veggies_image, lang=\"por\", config=myconfig)\n",
    "    \n",
    "    # Extract the veggies product name\n",
    "    veggies_data = veggies_text.split()\n",
    "    veggies_product = veggies_data[4].lower()\n",
    "    \n",
    "    return veggies_product\n",
    "\n",
    "# Example usage:\n",
    "veggies_product = extract_veggies_product(\"veggies.png\")\n",
    "print(veggies_product)"
   ]
  },
  {
   "cell_type": "code",
   "execution_count": null,
   "metadata": {},
   "outputs": [
    {
     "name": "stdout",
     "output_type": "stream",
     "text": [
      "maçã\n"
     ]
    }
   ],
   "source": [
    "#apple\n",
    "def extract_apple_product(image_path):\n",
    "    myconfig = r\"--psm 11 --oem 3\"\n",
    "    apple = Image.open(\"apple.png\")\n",
    "    data = pytesseract.image_to_string(apple, lang = \"por\", config = myconfig)\n",
    "\n",
    "    ##Para extrair as palavras que quero:\n",
    "    data = data.split()\n",
    "    apple_product = data[3].lower()\n",
    "    apple_product\n",
    "\n",
    "    return apple_product\n",
    "\n",
    "apple_product = extract_apple_product(\"apple.png\")\n",
    "print(apple_product)"
   ]
  },
  {
   "cell_type": "code",
   "execution_count": null,
   "metadata": {},
   "outputs": [
    {
     "name": "stdout",
     "output_type": "stream",
     "text": [
      "leite\n"
     ]
    }
   ],
   "source": [
    "#milk\n",
    "def extract_milk_product(image_path):\n",
    "    myconfig = r\"--psm 11 --oem 3\"\n",
    "    \n",
    "    # Extract text from the image\n",
    "    milk_image = Image.open(\"milk.png\")\n",
    "    milk_text = pytesseract.image_to_string(milk_image, lang=\"por\", config=myconfig)\n",
    "    \n",
    "    # Extract the milk product name\n",
    "    milk_data = milk_text.split()\n",
    "    milk_product = milk_data[0].lower()\n",
    "    \n",
    "    return milk_product\n",
    "\n",
    "# Example usage:\n",
    "milk_product = extract_milk_product(\"milk.png\")\n",
    "print(milk_product)"
   ]
  },
  {
   "cell_type": "code",
   "execution_count": null,
   "metadata": {},
   "outputs": [
    {
     "name": "stdout",
     "output_type": "stream",
     "text": [
      "batata\n"
     ]
    }
   ],
   "source": [
    "#potatoes\n",
    "def extract_potatoes_product(image_path):\n",
    "    myconfig = r\"--psm 6 --oem 3\"\n",
    "    \n",
    "    # Extract text from the image\n",
    "    potatoes_image = Image.open(\"potatoes.png\")\n",
    "    potatoes_text = pytesseract.image_to_string(potatoes_image, lang=\"por\", config=myconfig)\n",
    "    \n",
    "    # Extract the potatoes product name\n",
    "    potatoes_data = potatoes_text.split()\n",
    "    potatoes_product = potatoes_data[1].lower()\n",
    "    \n",
    "    return potatoes_product\n",
    "\n",
    "# Example usage:\n",
    "potatoes_product = extract_potatoes_product(\"potatoes.png\")\n",
    "print(potatoes_product)"
   ]
  },
  {
   "cell_type": "code",
   "execution_count": null,
   "metadata": {},
   "outputs": [
    {
     "name": "stdout",
     "output_type": "stream",
     "text": [
      "queijo flamengo fatiado\n"
     ]
    }
   ],
   "source": [
    "#cheese\n",
    "def extract_cheese_product(image_path):\n",
    "    myconfig = r\"--psm 11 --oem 3\"\n",
    "    \n",
    "    # Extract text from the image\n",
    "    cheese_image = Image.open(\"cheese.png\")\n",
    "    cheese_text = pytesseract.image_to_string(cheese_image, lang=\"por\", config=myconfig)\n",
    "    \n",
    "    # Extract the cheese product name\n",
    "    cheese_data = cheese_text.split()\n",
    "    cheese_word = cheese_data[1:4]\n",
    "    cheese_product = '-'.join(cheese_word)\n",
    "    cheese_product = cheese_product.replace(\"-\", \" \").lower()\n",
    "    \n",
    "    return cheese_product\n",
    "\n",
    "# Example usage:\n",
    "cheese_product = extract_cheese_product(\"cheese.png\")\n",
    "print(cheese_product)"
   ]
  },
  {
   "cell_type": "code",
   "execution_count": null,
   "metadata": {},
   "outputs": [
    {
     "name": "stdout",
     "output_type": "stream",
     "text": [
      "salada riviera alface verde\n"
     ]
    }
   ],
   "source": [
    "#salad\n",
    "def extract_salad_product(image_path):\n",
    "    myconfig = r\"--psm 11 --oem 3\"\n",
    "    \n",
    "    # Extract text from the image\n",
    "    salad_image = Image.open(\"salad.png\")\n",
    "    salad_text = pytesseract.image_to_string(salad_image, lang=\"por\", config=myconfig)\n",
    "    \n",
    "    # Extract the salad product name\n",
    "    salad_data = salad_text.split()\n",
    "    salad_word = salad_data[1:5]\n",
    "    salad_product = '-'.join(salad_word)\n",
    "    salad_product = salad_product.replace(\"-\", \" \").lower()\n",
    "    \n",
    "    return salad_product\n",
    "\n",
    "# Example usage:\n",
    "salad_product = extract_salad_product(\"salad.png\")\n",
    "print(salad_product)"
   ]
  },
  {
   "cell_type": "code",
   "execution_count": null,
   "metadata": {},
   "outputs": [
    {
     "name": "stdout",
     "output_type": "stream",
     "text": [
      "abacates\n"
     ]
    }
   ],
   "source": [
    "#avocado\n",
    "def extract_avocado_product(image_path):\n",
    "    myconfig = r\"--psm 11 --oem 3\"\n",
    "    \n",
    "    # Extract text from the image\n",
    "    avocado_image = Image.open(\"avocado.png\")\n",
    "    avocado_text = pytesseract.image_to_string(avocado_image, lang=\"por\", config=myconfig)\n",
    "    \n",
    "    # Extract the avocado product name\n",
    "    avocado_data = avocado_text.split()\n",
    "    avocado_product = avocado_data[14].lower()\n",
    "    \n",
    "    return avocado_product\n",
    "\n",
    "# Example usage:\n",
    "avocado_product = extract_avocado_product(\"avocado.png\")\n",
    "print(avocado_product)"
   ]
  },
  {
   "cell_type": "code",
   "execution_count": null,
   "metadata": {},
   "outputs": [
    {
     "name": "stdout",
     "output_type": "stream",
     "text": [
      "cogumelo branco\n"
     ]
    }
   ],
   "source": [
    "#mushrooms\n",
    "def extract_mushrooms_product(image_path):\n",
    "    myconfig = r\"--psm 11 --oem 3\"\n",
    "    \n",
    "    # Extract text from the image\n",
    "    mushrooms_image = Image.open(\"mushrooms.png\")\n",
    "    mushrooms_text = pytesseract.image_to_string(mushrooms_image, lang=\"por\", config=myconfig)\n",
    "    \n",
    "    # Extract the mushrooms product name\n",
    "    mushrooms_data = mushrooms_text.split()\n",
    "    mushrooms_word = mushrooms_data[7:9]\n",
    "    mushrooms_product = '-'.join(mushrooms_word)\n",
    "    mushrooms_product = mushrooms_product.replace(\"-\", \" \").lower()\n",
    "    \n",
    "    return mushrooms_product\n",
    "\n",
    "# Example usage:\n",
    "mushrooms_product = extract_mushrooms_product(\"mushrooms.png\")\n",
    "print(mushrooms_product)"
   ]
  },
  {
   "cell_type": "code",
   "execution_count": null,
   "metadata": {},
   "outputs": [
    {
     "name": "stdout",
     "output_type": "stream",
     "text": [
      "fiambre\n"
     ]
    }
   ],
   "source": [
    "#ham\n",
    "def extract_ham_product(image_path):\n",
    "    myconfig = r\"--psm 11 --oem 3\"\n",
    "    \n",
    "    # Extract text from the image\n",
    "    ham_image = Image.open(\"ham.png\")\n",
    "    ham_text = pytesseract.image_to_string(ham_image, lang=\"por\", config=myconfig)\n",
    "    \n",
    "    # Extract the ham product name\n",
    "    ham_data = ham_text.split()\n",
    "    ham_product = ham_data[2].lower()\n",
    "    \n",
    "    return ham_product\n",
    "\n",
    "# Example usage:\n",
    "ham_product = extract_ham_product(\"ham.png\")\n",
    "print(ham_product)"
   ]
  },
  {
   "cell_type": "code",
   "execution_count": null,
   "metadata": {},
   "outputs": [
    {
     "data": {
      "text/html": [
       "<div>\n",
       "<style scoped>\n",
       "    .dataframe tbody tr th:only-of-type {\n",
       "        vertical-align: middle;\n",
       "    }\n",
       "\n",
       "    .dataframe tbody tr th {\n",
       "        vertical-align: top;\n",
       "    }\n",
       "\n",
       "    .dataframe thead th {\n",
       "        text-align: right;\n",
       "    }\n",
       "</style>\n",
       "<table border=\"1\" class=\"dataframe\">\n",
       "  <thead>\n",
       "    <tr style=\"text-align: right;\">\n",
       "      <th></th>\n",
       "      <th>products</th>\n",
       "    </tr>\n",
       "  </thead>\n",
       "  <tbody>\n",
       "    <tr>\n",
       "      <th>0</th>\n",
       "      <td>maçã</td>\n",
       "    </tr>\n",
       "    <tr>\n",
       "      <th>1</th>\n",
       "      <td>abacates</td>\n",
       "    </tr>\n",
       "    <tr>\n",
       "      <th>2</th>\n",
       "      <td>feijao preto</td>\n",
       "    </tr>\n",
       "    <tr>\n",
       "      <th>3</th>\n",
       "      <td>pao de forma</td>\n",
       "    </tr>\n",
       "    <tr>\n",
       "      <th>4</th>\n",
       "      <td>queijo flamengo fatiado</td>\n",
       "    </tr>\n",
       "    <tr>\n",
       "      <th>5</th>\n",
       "      <td>ovos de galinhas</td>\n",
       "    </tr>\n",
       "    <tr>\n",
       "      <th>6</th>\n",
       "      <td>farinha</td>\n",
       "    </tr>\n",
       "    <tr>\n",
       "      <th>7</th>\n",
       "      <td>fiambre</td>\n",
       "    </tr>\n",
       "    <tr>\n",
       "      <th>8</th>\n",
       "      <td>iogurte</td>\n",
       "    </tr>\n",
       "    <tr>\n",
       "      <th>9</th>\n",
       "      <td>frango</td>\n",
       "    </tr>\n",
       "    <tr>\n",
       "      <th>10</th>\n",
       "      <td>leite</td>\n",
       "    </tr>\n",
       "    <tr>\n",
       "      <th>11</th>\n",
       "      <td>cogumelo branco</td>\n",
       "    </tr>\n",
       "    <tr>\n",
       "      <th>12</th>\n",
       "      <td>azeite</td>\n",
       "    </tr>\n",
       "    <tr>\n",
       "      <th>13</th>\n",
       "      <td>esparguete</td>\n",
       "    </tr>\n",
       "    <tr>\n",
       "      <th>14</th>\n",
       "      <td>batatas</td>\n",
       "    </tr>\n",
       "    <tr>\n",
       "      <th>15</th>\n",
       "      <td>arroz</td>\n",
       "    </tr>\n",
       "    <tr>\n",
       "      <th>16</th>\n",
       "      <td>salada riviera alface verde</td>\n",
       "    </tr>\n",
       "    <tr>\n",
       "      <th>17</th>\n",
       "      <td>salmão</td>\n",
       "    </tr>\n",
       "    <tr>\n",
       "      <th>18</th>\n",
       "      <td>espinafres</td>\n",
       "    </tr>\n",
       "    <tr>\n",
       "      <th>19</th>\n",
       "      <td>legumes</td>\n",
       "    </tr>\n",
       "  </tbody>\n",
       "</table>\n",
       "</div>"
      ],
      "text/plain": [
       "                       products\n",
       "0                          maçã\n",
       "1                      abacates\n",
       "2                  feijao preto\n",
       "3                  pao de forma\n",
       "4       queijo flamengo fatiado\n",
       "5              ovos de galinhas\n",
       "6                       farinha\n",
       "7                       fiambre\n",
       "8                       iogurte\n",
       "9                        frango\n",
       "10                        leite\n",
       "11              cogumelo branco\n",
       "12                       azeite\n",
       "13                   esparguete\n",
       "14                      batatas\n",
       "15                        arroz\n",
       "16  salada riviera alface verde\n",
       "17                       salmão\n",
       "18                   espinafres\n",
       "19                      legumes"
      ]
     },
     "execution_count": 47,
     "metadata": {},
     "output_type": "execute_result"
    }
   ],
   "source": [
    "#DataFrame:\n",
    "products_dict = {\n",
    "    apple_product: \"maçã\",\n",
    "    avocado_product: \"abacates\",\n",
    "    beans_product: \"feijao preto\",\n",
    "    bread_product: \"pao de forma\",\n",
    "    cheese_product: \"queijo flamengo fatiado\",\n",
    "    egg_product: \"ovos de galinhas\",\n",
    "    flour_product: \"farinha\",\n",
    "    ham_product: \"fiambre\",\n",
    "    yogurt_product: \"iogurte\",\n",
    "    meat_product: \"frango\",\n",
    "    milk_product: \"leite\",\n",
    "    mushrooms_product: \"cogumelo branco\",\n",
    "    oliveoil_product: \"azeite\",\n",
    "    pasta_product: \"esparguete\",\n",
    "    potatoes_product: \"batatas\",\n",
    "    rice_product: \"arroz\",\n",
    "    salad_product: \"salada riviera alface verde\",\n",
    "    salmon_product: \"salmão\",\n",
    "    spinach_product: \"espinafres\",\n",
    "    veggies_product: \"legumes\"\n",
    "}\n",
    "\n",
    "smart_pantry = pd.DataFrame.from_dict(products_dict, orient = \"index\", columns = [\"products\"])\n",
    "smart_pantry.reset_index(drop = True, inplace = True)\n",
    "\n",
    "smart_pantry"
   ]
  },
  {
   "cell_type": "code",
   "execution_count": null,
   "metadata": {},
   "outputs": [],
   "source": [
    "#new column\n",
    "name_id = [\"apple\", \"avocado\", \"beans\", \"bread\", \"cheese\", \"eggs\", \"flour\", \"ham\", \"yogurt\", \"chicken\", \"milk\", \"mushrooms\", \"oliveoil\",\n",
    " \"pasta\", \"potatoes\", \"rice\", \"salad\", \"salmon\", \"spinach\", \"veggies\"]\n",
    "\n",
    "smart_pantry[\"name_id\"] = name_id"
   ]
  },
  {
   "cell_type": "code",
   "execution_count": null,
   "metadata": {},
   "outputs": [
    {
     "name": "stdout",
     "output_type": "stream",
     "text": [
      "Invalid date format. Please use DD-MM-YYYY format. Try again.\n"
     ]
    },
    {
     "data": {
      "text/html": [
       "<div>\n",
       "<style scoped>\n",
       "    .dataframe tbody tr th:only-of-type {\n",
       "        vertical-align: middle;\n",
       "    }\n",
       "\n",
       "    .dataframe tbody tr th {\n",
       "        vertical-align: top;\n",
       "    }\n",
       "\n",
       "    .dataframe thead th {\n",
       "        text-align: right;\n",
       "    }\n",
       "</style>\n",
       "<table border=\"1\" class=\"dataframe\">\n",
       "  <thead>\n",
       "    <tr style=\"text-align: right;\">\n",
       "      <th></th>\n",
       "      <th>products</th>\n",
       "      <th>name_id</th>\n",
       "      <th>expiration_date</th>\n",
       "    </tr>\n",
       "  </thead>\n",
       "  <tbody>\n",
       "    <tr>\n",
       "      <th>0</th>\n",
       "      <td>maçã</td>\n",
       "      <td>apple</td>\n",
       "      <td>2014-01-01</td>\n",
       "    </tr>\n",
       "    <tr>\n",
       "      <th>1</th>\n",
       "      <td>abacates</td>\n",
       "      <td>avocado</td>\n",
       "      <td>2014-01-01</td>\n",
       "    </tr>\n",
       "    <tr>\n",
       "      <th>2</th>\n",
       "      <td>feijao preto</td>\n",
       "      <td>beans</td>\n",
       "      <td>2014-01-01</td>\n",
       "    </tr>\n",
       "    <tr>\n",
       "      <th>3</th>\n",
       "      <td>pao de forma</td>\n",
       "      <td>bread</td>\n",
       "      <td>2014-01-01</td>\n",
       "    </tr>\n",
       "    <tr>\n",
       "      <th>4</th>\n",
       "      <td>queijo flamengo fatiado</td>\n",
       "      <td>cheese</td>\n",
       "      <td>2014-01-01</td>\n",
       "    </tr>\n",
       "    <tr>\n",
       "      <th>5</th>\n",
       "      <td>ovos de galinhas</td>\n",
       "      <td>eggs</td>\n",
       "      <td>2014-01-01</td>\n",
       "    </tr>\n",
       "    <tr>\n",
       "      <th>6</th>\n",
       "      <td>farinha</td>\n",
       "      <td>flour</td>\n",
       "      <td>2014-01-01</td>\n",
       "    </tr>\n",
       "    <tr>\n",
       "      <th>7</th>\n",
       "      <td>fiambre</td>\n",
       "      <td>ham</td>\n",
       "      <td>2014-01-01</td>\n",
       "    </tr>\n",
       "    <tr>\n",
       "      <th>8</th>\n",
       "      <td>iogurte</td>\n",
       "      <td>yogurt</td>\n",
       "      <td>2014-01-01</td>\n",
       "    </tr>\n",
       "    <tr>\n",
       "      <th>9</th>\n",
       "      <td>frango</td>\n",
       "      <td>chicken</td>\n",
       "      <td>2014-01-01</td>\n",
       "    </tr>\n",
       "    <tr>\n",
       "      <th>10</th>\n",
       "      <td>leite</td>\n",
       "      <td>milk</td>\n",
       "      <td>2014-01-01</td>\n",
       "    </tr>\n",
       "    <tr>\n",
       "      <th>11</th>\n",
       "      <td>cogumelo branco</td>\n",
       "      <td>mushrooms</td>\n",
       "      <td>2014-01-01</td>\n",
       "    </tr>\n",
       "    <tr>\n",
       "      <th>12</th>\n",
       "      <td>azeite</td>\n",
       "      <td>oliveoil</td>\n",
       "      <td>2014-01-01</td>\n",
       "    </tr>\n",
       "    <tr>\n",
       "      <th>13</th>\n",
       "      <td>esparguete</td>\n",
       "      <td>pasta</td>\n",
       "      <td>2014-01-01</td>\n",
       "    </tr>\n",
       "    <tr>\n",
       "      <th>14</th>\n",
       "      <td>batatas</td>\n",
       "      <td>potatoes</td>\n",
       "      <td>2014-01-01</td>\n",
       "    </tr>\n",
       "    <tr>\n",
       "      <th>15</th>\n",
       "      <td>arroz</td>\n",
       "      <td>rice</td>\n",
       "      <td>2014-01-01</td>\n",
       "    </tr>\n",
       "    <tr>\n",
       "      <th>16</th>\n",
       "      <td>salada riviera alface verde</td>\n",
       "      <td>salad</td>\n",
       "      <td>2014-01-01</td>\n",
       "    </tr>\n",
       "    <tr>\n",
       "      <th>17</th>\n",
       "      <td>salmão</td>\n",
       "      <td>salmon</td>\n",
       "      <td>2014-01-01</td>\n",
       "    </tr>\n",
       "    <tr>\n",
       "      <th>18</th>\n",
       "      <td>espinafres</td>\n",
       "      <td>spinach</td>\n",
       "      <td>2014-01-01</td>\n",
       "    </tr>\n",
       "    <tr>\n",
       "      <th>19</th>\n",
       "      <td>legumes</td>\n",
       "      <td>veggies</td>\n",
       "      <td>2014-01-01</td>\n",
       "    </tr>\n",
       "  </tbody>\n",
       "</table>\n",
       "</div>"
      ],
      "text/plain": [
       "                       products    name_id expiration_date\n",
       "0                          maçã      apple      2014-01-01\n",
       "1                      abacates    avocado      2014-01-01\n",
       "2                  feijao preto      beans      2014-01-01\n",
       "3                  pao de forma      bread      2014-01-01\n",
       "4       queijo flamengo fatiado     cheese      2014-01-01\n",
       "5              ovos de galinhas       eggs      2014-01-01\n",
       "6                       farinha      flour      2014-01-01\n",
       "7                       fiambre        ham      2014-01-01\n",
       "8                       iogurte     yogurt      2014-01-01\n",
       "9                        frango    chicken      2014-01-01\n",
       "10                        leite       milk      2014-01-01\n",
       "11              cogumelo branco  mushrooms      2014-01-01\n",
       "12                       azeite   oliveoil      2014-01-01\n",
       "13                   esparguete      pasta      2014-01-01\n",
       "14                      batatas   potatoes      2014-01-01\n",
       "15                        arroz       rice      2014-01-01\n",
       "16  salada riviera alface verde      salad      2014-01-01\n",
       "17                       salmão     salmon      2014-01-01\n",
       "18                   espinafres    spinach      2014-01-01\n",
       "19                      legumes    veggies      2014-01-01"
      ]
     },
     "execution_count": 49,
     "metadata": {},
     "output_type": "execute_result"
    }
   ],
   "source": [
    "# user input for expiration dates\n",
    "for index, row in smart_pantry.iterrows():\n",
    "    while True:\n",
    "        expiration_input = input(f\"Enter expiration date for {row['products']} (DD-MM-YYYY): \")\n",
    "        \n",
    "        try:\n",
    "            expiration_date = datetime.strptime(expiration_input, \"%d-%m-%Y\").date()\n",
    "            smart_pantry.at[index, \"expiration_date\"] = expiration_date\n",
    "            break \n",
    "        except ValueError:\n",
    "            print(\"Invalid date format. Please use DD-MM-YYYY format. Try again.\")\n",
    "\n",
    "smart_pantry"
   ]
  },
  {
   "cell_type": "code",
   "execution_count": null,
   "metadata": {},
   "outputs": [],
   "source": [
    "# to organize the dataframe in a way that makes sense\n",
    "smart_pantry = smart_pantry[['name_id', 'products', 'expiration_date']]"
   ]
  },
  {
   "cell_type": "code",
   "execution_count": null,
   "metadata": {},
   "outputs": [
    {
     "data": {
      "text/html": [
       "<div>\n",
       "<style scoped>\n",
       "    .dataframe tbody tr th:only-of-type {\n",
       "        vertical-align: middle;\n",
       "    }\n",
       "\n",
       "    .dataframe tbody tr th {\n",
       "        vertical-align: top;\n",
       "    }\n",
       "\n",
       "    .dataframe thead th {\n",
       "        text-align: right;\n",
       "    }\n",
       "</style>\n",
       "<table border=\"1\" class=\"dataframe\">\n",
       "  <thead>\n",
       "    <tr style=\"text-align: right;\">\n",
       "      <th></th>\n",
       "      <th>name_id</th>\n",
       "      <th>products</th>\n",
       "      <th>expiration_date</th>\n",
       "    </tr>\n",
       "  </thead>\n",
       "  <tbody>\n",
       "    <tr>\n",
       "      <th>0</th>\n",
       "      <td>apple</td>\n",
       "      <td>maçã</td>\n",
       "      <td>2014-01-01</td>\n",
       "    </tr>\n",
       "    <tr>\n",
       "      <th>1</th>\n",
       "      <td>avocado</td>\n",
       "      <td>abacates</td>\n",
       "      <td>2014-01-01</td>\n",
       "    </tr>\n",
       "    <tr>\n",
       "      <th>2</th>\n",
       "      <td>beans</td>\n",
       "      <td>feijao preto</td>\n",
       "      <td>2014-01-01</td>\n",
       "    </tr>\n",
       "    <tr>\n",
       "      <th>3</th>\n",
       "      <td>bread</td>\n",
       "      <td>pao de forma</td>\n",
       "      <td>2014-01-01</td>\n",
       "    </tr>\n",
       "    <tr>\n",
       "      <th>4</th>\n",
       "      <td>cheese</td>\n",
       "      <td>queijo flamengo fatiado</td>\n",
       "      <td>2014-01-01</td>\n",
       "    </tr>\n",
       "    <tr>\n",
       "      <th>5</th>\n",
       "      <td>eggs</td>\n",
       "      <td>ovos de galinhas</td>\n",
       "      <td>2014-01-01</td>\n",
       "    </tr>\n",
       "    <tr>\n",
       "      <th>6</th>\n",
       "      <td>flour</td>\n",
       "      <td>farinha</td>\n",
       "      <td>2014-01-01</td>\n",
       "    </tr>\n",
       "    <tr>\n",
       "      <th>7</th>\n",
       "      <td>ham</td>\n",
       "      <td>fiambre</td>\n",
       "      <td>2014-01-01</td>\n",
       "    </tr>\n",
       "    <tr>\n",
       "      <th>8</th>\n",
       "      <td>yogurt</td>\n",
       "      <td>iogurte</td>\n",
       "      <td>2014-01-01</td>\n",
       "    </tr>\n",
       "    <tr>\n",
       "      <th>9</th>\n",
       "      <td>chicken</td>\n",
       "      <td>frango</td>\n",
       "      <td>2014-01-01</td>\n",
       "    </tr>\n",
       "    <tr>\n",
       "      <th>10</th>\n",
       "      <td>milk</td>\n",
       "      <td>leite</td>\n",
       "      <td>2014-01-01</td>\n",
       "    </tr>\n",
       "    <tr>\n",
       "      <th>11</th>\n",
       "      <td>mushrooms</td>\n",
       "      <td>cogumelo branco</td>\n",
       "      <td>2014-01-01</td>\n",
       "    </tr>\n",
       "    <tr>\n",
       "      <th>12</th>\n",
       "      <td>oliveoil</td>\n",
       "      <td>azeite</td>\n",
       "      <td>2014-01-01</td>\n",
       "    </tr>\n",
       "    <tr>\n",
       "      <th>13</th>\n",
       "      <td>pasta</td>\n",
       "      <td>esparguete</td>\n",
       "      <td>2014-01-01</td>\n",
       "    </tr>\n",
       "    <tr>\n",
       "      <th>14</th>\n",
       "      <td>potatoes</td>\n",
       "      <td>batatas</td>\n",
       "      <td>2014-01-01</td>\n",
       "    </tr>\n",
       "    <tr>\n",
       "      <th>15</th>\n",
       "      <td>rice</td>\n",
       "      <td>arroz</td>\n",
       "      <td>2014-01-01</td>\n",
       "    </tr>\n",
       "    <tr>\n",
       "      <th>16</th>\n",
       "      <td>salad</td>\n",
       "      <td>salada riviera alface verde</td>\n",
       "      <td>2014-01-01</td>\n",
       "    </tr>\n",
       "    <tr>\n",
       "      <th>17</th>\n",
       "      <td>salmon</td>\n",
       "      <td>salmão</td>\n",
       "      <td>2014-01-01</td>\n",
       "    </tr>\n",
       "    <tr>\n",
       "      <th>18</th>\n",
       "      <td>spinach</td>\n",
       "      <td>espinafres</td>\n",
       "      <td>2014-01-01</td>\n",
       "    </tr>\n",
       "    <tr>\n",
       "      <th>19</th>\n",
       "      <td>veggies</td>\n",
       "      <td>legumes</td>\n",
       "      <td>2014-01-01</td>\n",
       "    </tr>\n",
       "  </tbody>\n",
       "</table>\n",
       "</div>"
      ],
      "text/plain": [
       "      name_id                     products expiration_date\n",
       "0       apple                         maçã      2014-01-01\n",
       "1     avocado                     abacates      2014-01-01\n",
       "2       beans                 feijao preto      2014-01-01\n",
       "3       bread                 pao de forma      2014-01-01\n",
       "4      cheese      queijo flamengo fatiado      2014-01-01\n",
       "5        eggs             ovos de galinhas      2014-01-01\n",
       "6       flour                      farinha      2014-01-01\n",
       "7         ham                      fiambre      2014-01-01\n",
       "8      yogurt                      iogurte      2014-01-01\n",
       "9     chicken                       frango      2014-01-01\n",
       "10       milk                        leite      2014-01-01\n",
       "11  mushrooms              cogumelo branco      2014-01-01\n",
       "12   oliveoil                       azeite      2014-01-01\n",
       "13      pasta                   esparguete      2014-01-01\n",
       "14   potatoes                      batatas      2014-01-01\n",
       "15       rice                        arroz      2014-01-01\n",
       "16      salad  salada riviera alface verde      2014-01-01\n",
       "17     salmon                       salmão      2014-01-01\n",
       "18    spinach                   espinafres      2014-01-01\n",
       "19    veggies                      legumes      2014-01-01"
      ]
     },
     "execution_count": 51,
     "metadata": {},
     "output_type": "execute_result"
    }
   ],
   "source": [
    "smart_pantry"
   ]
  },
  {
   "cell_type": "code",
   "execution_count": null,
   "metadata": {},
   "outputs": [],
   "source": [
    "# save the dataframe\n",
    "smart_pantry.to_csv(\"smart_pantry.csv\", index=False)"
   ]
  }
 ],
 "metadata": {
  "kernelspec": {
   "display_name": "base",
   "language": "python",
   "name": "python3"
  },
  "language_info": {
   "codemirror_mode": {
    "name": "ipython",
    "version": 3
   },
   "file_extension": ".py",
   "mimetype": "text/x-python",
   "name": "python",
   "nbconvert_exporter": "python",
   "pygments_lexer": "ipython3",
   "version": "3.10.9"
  },
  "orig_nbformat": 4
 },
 "nbformat": 4,
 "nbformat_minor": 2
}
